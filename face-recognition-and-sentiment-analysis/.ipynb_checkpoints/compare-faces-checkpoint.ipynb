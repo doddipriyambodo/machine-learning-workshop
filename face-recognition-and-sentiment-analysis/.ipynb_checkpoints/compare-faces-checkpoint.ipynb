{
 "cells": [
  {
   "cell_type": "markdown",
   "metadata": {},
   "source": [
    "# Let's import the AWS SDK for python (boto) and define the compare faces function"
   ]
  },
  {
   "cell_type": "code",
   "execution_count": 2,
   "metadata": {},
   "outputs": [],
   "source": [
    "#Copyright 2018 Amazon.com, Inc. or its affiliates. All Rights Reserved.\n",
    "#PDX-License-Identifier: MIT-0 (For details, see https://github.com/awsdocs/amazon-rekognition-developer-guide/blob/master/LICENSE-SAMPLECODE.)\n",
    "\n",
    "import boto3\n",
    "\n",
    "def compare_faces(sourceFile, targetFile):\n",
    "\n",
    "    client=boto3.client('rekognition')\n",
    "   \n",
    "    imageSource=open(sourceFile,'rb')\n",
    "    imageTarget=open(targetFile,'rb')\n",
    "\n",
    "    response=client.compare_faces(SimilarityThreshold=70,\n",
    "                                  SourceImage={'Bytes': imageSource.read()},\n",
    "                                  TargetImage={'Bytes': imageTarget.read()})\n",
    "    \n",
    "    if not response['FaceMatches']:\n",
    "        print('No face match found')\n",
    "    else:\n",
    "        for faceMatch in response['FaceMatches']:\n",
    "            position = faceMatch['Face']['BoundingBox']\n",
    "            similarity = str(faceMatch['Similarity'])\n",
    "            print('The face at ' +\n",
    "                   str(position['Left']) + ' ' +\n",
    "                   str(position['Top']) +\n",
    "                   ' matches with ' + similarity + '% confidence')\n",
    "\n",
    "    imageSource.close()\n",
    "    imageTarget.close()  \n",
    "\n",
    "\n",
    "\n",
    "       "
   ]
  },
  {
   "cell_type": "markdown",
   "metadata": {},
   "source": [
    "# Let's compare two images of Mohamed Salah (Liverpool FC player), hopefully match is found"
   ]
  },
  {
   "cell_type": "markdown",
   "metadata": {},
   "source": [
    "<figure style=\"float:left;\"><img src=\"images/salah1.jpg\" alt=\"Source\" width=\"200\"/><figcaption ><center>Source</center></figcaption></figure><figure style=\"float:right;\"><img src=\"images/salah2.jpg\" alt=\"Target\" width=\"130\"/><figcaption><center>Target</center></figcaption></figure>"
   ]
  },
  {
   "cell_type": "code",
   "execution_count": 3,
   "metadata": {},
   "outputs": [
    {
     "name": "stdout",
     "output_type": "stream",
     "text": [
      "The face at 0.443472504616 0.119675278664 matches with 99.4826049805% confidence\n"
     ]
    }
   ],
   "source": [
    "sourceFile='images/salah1.jpg'\n",
    "targetFile='images/salah2.jpg'\n",
    "\n",
    "compare_faces(sourceFile, targetFile)"
   ]
  },
  {
   "cell_type": "markdown",
   "metadata": {},
   "source": [
    "# Salah plays with Liverpool FC. Will Rekognition be able to identify him in a lineup picture of Liverpool players?"
   ]
  },
  {
   "cell_type": "markdown",
   "metadata": {},
   "source": [
    "<figure style=\"float:left;\"><img src=\"images/salah1.jpg\" alt=\"Source\" width=\"200\"/><figcaption ><center>Source</center></figcaption></figure><figure style=\"float:right;\"><img src=\"images/liverpool2.jpg\" alt=\"Target\" width=\"270\"/><figcaption><center>Target</center></figcaption></figure>"
   ]
  },
  {
   "cell_type": "code",
   "execution_count": 5,
   "metadata": {},
   "outputs": [
    {
     "name": "stdout",
     "output_type": "stream",
     "text": [
      "The face at 0.774807214737 0.237252682447 matches with 98.9926300049% confidence\n"
     ]
    }
   ],
   "source": [
    "sourceFile='images/salah1.jpg'\n",
    "targetFile='images/liverpool2.jpg'\n",
    "\n",
    "compare_faces(sourceFile, targetFile)"
   ]
  },
  {
   "cell_type": "markdown",
   "metadata": {},
   "source": [
    "# What if we present a lineup picture of Bayern Munich players? It should not find Salah in there..."
   ]
  },
  {
   "cell_type": "markdown",
   "metadata": {},
   "source": [
    "<figure style=\"float:left;\"><img src=\"images/salah1.jpg\" alt=\"Source\" width=\"200\"/><figcaption ><center>Source</center></figcaption></figure><figure style=\"float:right;\"><img src=\"images/bayern1.jpg\" alt=\"Target\" width=\"350\"/><figcaption><center>Target</center></figcaption></figure>"
   ]
  },
  {
   "cell_type": "code",
   "execution_count": 6,
   "metadata": {},
   "outputs": [
    {
     "name": "stdout",
     "output_type": "stream",
     "text": [
      "No face match found\n"
     ]
    }
   ],
   "source": [
    "sourceFile='images/salah1.jpg'\n",
    "targetFile='images/bayern1.jpg'\n",
    "\n",
    "compare_faces(sourceFile, targetFile)"
   ]
  },
  {
   "cell_type": "markdown",
   "metadata": {},
   "source": [
    "# Now, let's try real use case with photo ID"
   ]
  },
  {
   "cell_type": "markdown",
   "metadata": {},
   "source": [
    "<figure style=\"float:left;\"><img src=\"images/yudho-card.jpg\" alt=\"Source\" width=\"200\"/><figcaption ><center>Source</center></figcaption></figure><figure style=\"float:right;\"><img src=\"images/yudho1.jpg\" alt=\"Target\" width=\"120\"/><figcaption><center>Target</center></figcaption></figure>"
   ]
  },
  {
   "cell_type": "code",
   "execution_count": 7,
   "metadata": {},
   "outputs": [
    {
     "name": "stdout",
     "output_type": "stream",
     "text": [
      "The face at 0.361064046621 0.2221865803 matches with 99.6471328735% confidence\n"
     ]
    }
   ],
   "source": [
    "sourceFile='images/yudho-card.jpg'\n",
    "targetFile='images/yudho1.jpg'\n",
    "\n",
    "compare_faces(sourceFile, targetFile)"
   ]
  },
  {
   "cell_type": "markdown",
   "metadata": {},
   "source": [
    "# Now, can we find a match between Yudho's photo ID and Andrew's capture?"
   ]
  },
  {
   "cell_type": "markdown",
   "metadata": {},
   "source": [
    "<figure style=\"float:left;\"><img src=\"images/yudho-card.jpg\" alt=\"Source\" width=\"200\"/><figcaption ><center>Source</center></figcaption></figure><figure style=\"float:right;\"><img src=\"images/andrew1.jpg\" alt=\"Target\" width=\"120\"/><figcaption><center>Target</center></figcaption></figure>"
   ]
  },
  {
   "cell_type": "code",
   "execution_count": 8,
   "metadata": {},
   "outputs": [
    {
     "name": "stdout",
     "output_type": "stream",
     "text": [
      "No face match found\n"
     ]
    }
   ],
   "source": [
    "sourceFile='images/yudho-card.jpg'\n",
    "targetFile='images/andrew1.jpg'\n",
    "\n",
    "compare_faces(sourceFile, targetFile)"
   ]
  },
  {
   "cell_type": "markdown",
   "metadata": {},
   "source": [
    "# So, is it good enough to recognize Yudho in the crowd?"
   ]
  },
  {
   "cell_type": "markdown",
   "metadata": {},
   "source": [
    "<figure style=\"float:left;\"><img src=\"images/yudho-card.jpg\" alt=\"Source\" width=\"200\"/><figcaption ><center>Source</center></figcaption></figure><figure style=\"float:right;\"><img src=\"images/yudho-in-crowd.jpg\" alt=\"Target\" width=\"200\"/><figcaption><center>Target</center></figcaption></figure>"
   ]
  },
  {
   "cell_type": "code",
   "execution_count": 9,
   "metadata": {},
   "outputs": [
    {
     "name": "stdout",
     "output_type": "stream",
     "text": [
      "The face at 0.529481947422 0.420504063368 matches with 99.2457275391% confidence\n"
     ]
    }
   ],
   "source": [
    "sourceFile='images/yudho-card.jpg'\n",
    "targetFile='images/yudho-in-crowd.jpg'\n",
    "\n",
    "compare_faces(sourceFile, targetFile)"
   ]
  },
  {
   "cell_type": "code",
   "execution_count": null,
   "metadata": {},
   "outputs": [],
   "source": []
  }
 ],
 "metadata": {
  "kernelspec": {
   "display_name": "conda_python2",
   "language": "python",
   "name": "conda_python2"
  },
  "language_info": {
   "codemirror_mode": {
    "name": "ipython",
    "version": 2
   },
   "file_extension": ".py",
   "mimetype": "text/x-python",
   "name": "python",
   "nbconvert_exporter": "python",
   "pygments_lexer": "ipython2",
   "version": "2.7.15"
  }
 },
 "nbformat": 4,
 "nbformat_minor": 2
}
